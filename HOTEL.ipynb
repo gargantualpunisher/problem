{
 "cells": [
  {
   "cell_type": "code",
   "execution_count": 2,
   "id": "2318a53f",
   "metadata": {},
   "outputs": [],
   "source": [
    "import selenium\n",
    "import pandas as pd\n",
    "from selenium import webdriver\n",
    "import warnings\n",
    "warnings.filterwarnings('ignore')\n",
    "from selenium.common.exceptions import StaleElementReferenceException, NoSuchElementException\n",
    "from selenium.webdriver.common.by import By\n",
    "import time\n",
    "from selenium.webdriver.chrome.service import Service"
   ]
  },
  {
   "cell_type": "code",
   "execution_count": 3,
   "id": "7b2fa1a9",
   "metadata": {},
   "outputs": [],
   "source": [
    "drivers = webdriver.Chrome(r\"D:\\selenium\\chromedriver.exe\")\n",
    "\n",
    "drivers.get('https://www.hostelworld.com/')\n",
    "\n"
   ]
  },
  {
   "cell_type": "code",
   "execution_count": 15,
   "id": "0cb1bf19",
   "metadata": {},
   "outputs": [],
   "source": [
    "# CLICK\n",
    "click2 = drivers.find_element(By.ID, \"location-text-input-field\")\n",
    "click2.click()\n",
    "\n",
    "\n"
   ]
  },
  {
   "cell_type": "code",
   "execution_count": 16,
   "id": "39861167",
   "metadata": {},
   "outputs": [],
   "source": [
    "# input \n",
    "\n",
    "input = drivers.find_element(By.ID, \"search-input-field\")\n",
    "input.send_keys('London')\n"
   ]
  },
  {
   "cell_type": "code",
   "execution_count": 17,
   "id": "0c22a1af",
   "metadata": {},
   "outputs": [],
   "source": [
    "\n",
    "click1 = drivers.find_element(By.XPATH, \"/html/body/div[3]/div/div/div[2]/div[2]/div/div/div[4]/div/div[2]/div/div[1]/div/div/ul/li[2]/div\")\n",
    "click1.click()\n",
    "\n"
   ]
  },
  {
   "cell_type": "code",
   "execution_count": 18,
   "id": "a5c7e6c8",
   "metadata": {},
   "outputs": [],
   "source": [
    "# click\n",
    "\n",
    "click1=drivers.find_element(By.ID, \"search-button\")\n",
    "click1.click()"
   ]
  },
  {
   "cell_type": "code",
   "execution_count": 65,
   "id": "19af4efa",
   "metadata": {},
   "outputs": [
    {
     "data": {
      "text/plain": [
       "30"
      ]
     },
     "execution_count": 65,
     "metadata": {},
     "output_type": "execute_result"
    }
   ],
   "source": [
    "# Name\n",
    "\n",
    "Name = []\n",
    "name = drivers.find_elements(By.XPATH, '//h2[@class=\"title title-6\"]')\n",
    "\n",
    "for i in name:\n",
    "    Name.append(i.text)\n",
    "len(Name)"
   ]
  },
  {
   "cell_type": "code",
   "execution_count": 85,
   "id": "63e22684",
   "metadata": {},
   "outputs": [
    {
     "data": {
      "text/plain": [
       "28"
      ]
     },
     "execution_count": 85,
     "metadata": {},
     "output_type": "execute_result"
    }
   ],
   "source": [
    "# RATING\n",
    "RATING =[]\n",
    "\n",
    "rating = drivers.find_elements(By.XPATH, '//div[contains(@class, \"score orange big\")]')\n",
    "for i in rating:\n",
    "    RATING.append(i.text)\n",
    "len(RATING)\n",
    "\n"
   ]
  },
  {
   "cell_type": "code",
   "execution_count": 86,
   "id": "fc7f83b4",
   "metadata": {},
   "outputs": [
    {
     "data": {
      "text/plain": [
       "30"
      ]
     },
     "execution_count": 86,
     "metadata": {},
     "output_type": "execute_result"
    }
   ],
   "source": [
    "rating1 = drivers.find_elements(By.XPATH, '//div[contains(@class, \"score gray big\")]')\n",
    "for i in rating1:\n",
    "    RATING.append(i.text)\n",
    "len(RATING)\n"
   ]
  },
  {
   "cell_type": "code",
   "execution_count": 51,
   "id": "360523dc",
   "metadata": {},
   "outputs": [
    {
     "data": {
      "text/plain": [
       "60"
      ]
     },
     "execution_count": 51,
     "metadata": {},
     "output_type": "execute_result"
    }
   ],
   "source": [
    "# Price\n",
    "Price =[]\n",
    "price = drivers.find_elements(By.XPATH, '//div[@class=\"price-col\"]')\n",
    "\n",
    "for i in price:\n",
    "    Price.append(i.text)\n",
    "len(Price)"
   ]
  },
  {
   "cell_type": "code",
   "execution_count": 41,
   "id": "678a8416",
   "metadata": {},
   "outputs": [],
   "source": [
    "import pandas as pd\n",
    "\n",
    "Price1 = pd.Series(Price)"
   ]
  },
  {
   "cell_type": "code",
   "execution_count": 58,
   "id": "8b83500d",
   "metadata": {},
   "outputs": [
    {
     "data": {
      "text/plain": [
       "30"
      ]
     },
     "execution_count": 58,
     "metadata": {},
     "output_type": "execute_result"
    }
   ],
   "source": [
    "Price2 = Price1.drop([1,3,5,7,9,11,13,15,17,19,21,23,25,27,29,31,33,35,37,39,41,43,45,47,49,51,53,55,57,59],axis=0)\n",
    "\n",
    "len(Price2)"
   ]
  },
  {
   "cell_type": "code",
   "execution_count": 57,
   "id": "21bce19e",
   "metadata": {},
   "outputs": [
    {
     "data": {
      "text/plain": [
       "30"
      ]
     },
     "execution_count": 57,
     "metadata": {},
     "output_type": "execute_result"
    }
   ],
   "source": [
    "Price3 = Price1.drop([0,2,4,6,8,10,12,14,16,18,20,22,24,26,28,30,32,34,36,38,40,42,44,46,48,50,52,54,56,58],axis=0)\n",
    "len(Price3)"
   ]
  },
  {
   "cell_type": "code",
   "execution_count": 88,
   "id": "f9554ee0",
   "metadata": {},
   "outputs": [
    {
     "data": {
      "text/plain": [
       "30"
      ]
     },
     "execution_count": 88,
     "metadata": {},
     "output_type": "execute_result"
    }
   ],
   "source": [
    "# distance from city\n",
    "Distance =[]\n",
    "distance = drivers.find_elements(By.XPATH, '//span[@class=\"description\"]')\n",
    "\n",
    "for i in distance:\n",
    "    Distance.append(i.text)\n",
    "len(Distance)"
   ]
  },
  {
   "cell_type": "code",
   "execution_count": 90,
   "id": "515dc6bb",
   "metadata": {},
   "outputs": [
    {
     "data": {
      "text/plain": [
       "30"
      ]
     },
     "execution_count": 90,
     "metadata": {},
     "output_type": "execute_result"
    }
   ],
   "source": [
    "# review\n",
    "Review =[]\n",
    "review = drivers.find_elements(By.XPATH, '//div[@class=\"reviews\"]')\n",
    "\n",
    "for i in review:\n",
    "    Review.append(i.text)\n",
    "len(Review)"
   ]
  },
  {
   "cell_type": "code",
   "execution_count": null,
   "id": "ed67fbab",
   "metadata": {},
   "outputs": [],
   "source": []
  },
  {
   "cell_type": "code",
   "execution_count": null,
   "id": "4c8562e3",
   "metadata": {},
   "outputs": [],
   "source": []
  },
  {
   "cell_type": "code",
   "execution_count": null,
   "id": "4e0ad811",
   "metadata": {},
   "outputs": [],
   "source": []
  },
  {
   "cell_type": "code",
   "execution_count": 91,
   "id": "e08866c1",
   "metadata": {},
   "outputs": [],
   "source": [
    "import pandas as pd\n",
    "\n",
    "Final =pd.DataFrame()\n",
    "\n",
    "Final['Name'] = Name\n",
    "Final['RATING'] = RATING\n",
    "Final['Price'] = Price2\n",
    "Final['Price1'] = Price3\n",
    "Final['Distance'] = Distance\n",
    "Final['Review'] = Review"
   ]
  },
  {
   "cell_type": "code",
   "execution_count": 92,
   "id": "9c7551c0",
   "metadata": {},
   "outputs": [
    {
     "data": {
      "text/html": [
       "<div>\n",
       "<style scoped>\n",
       "    .dataframe tbody tr th:only-of-type {\n",
       "        vertical-align: middle;\n",
       "    }\n",
       "\n",
       "    .dataframe tbody tr th {\n",
       "        vertical-align: top;\n",
       "    }\n",
       "\n",
       "    .dataframe thead th {\n",
       "        text-align: right;\n",
       "    }\n",
       "</style>\n",
       "<table border=\"1\" class=\"dataframe\">\n",
       "  <thead>\n",
       "    <tr style=\"text-align: right;\">\n",
       "      <th></th>\n",
       "      <th>Name</th>\n",
       "      <th>RATING</th>\n",
       "      <th>Price</th>\n",
       "      <th>Price1</th>\n",
       "      <th>Distance</th>\n",
       "      <th>Review</th>\n",
       "    </tr>\n",
       "  </thead>\n",
       "  <tbody>\n",
       "    <tr>\n",
       "      <th>0</th>\n",
       "      <td>Wombat's City Hostel London</td>\n",
       "      <td>8.9</td>\n",
       "      <td>Privates From\\nRs15025.91 Rs12021</td>\n",
       "      <td>NaN</td>\n",
       "      <td>Hostel - 3.6km from city centre</td>\n",
       "      <td>14519 Total Reviews</td>\n",
       "    </tr>\n",
       "    <tr>\n",
       "      <th>1</th>\n",
       "      <td>St Christopher's Village</td>\n",
       "      <td>8.0</td>\n",
       "      <td>NaN</td>\n",
       "      <td>Dorms From\\nRs5285.46 Rs4228</td>\n",
       "      <td>Hostel - 1.8km from city centre</td>\n",
       "      <td>11866 Total Reviews</td>\n",
       "    </tr>\n",
       "    <tr>\n",
       "      <th>2</th>\n",
       "      <td>Hostel One Notting Hill</td>\n",
       "      <td>9.4</td>\n",
       "      <td>No Privates Available</td>\n",
       "      <td>NaN</td>\n",
       "      <td>Hostel - 5.5km from city centre</td>\n",
       "      <td>1713 Total Reviews</td>\n",
       "    </tr>\n",
       "    <tr>\n",
       "      <th>3</th>\n",
       "      <td>Generator London</td>\n",
       "      <td>7.6</td>\n",
       "      <td>NaN</td>\n",
       "      <td>Dorms From\\nRs2243.34 Rs2019</td>\n",
       "      <td>Hostel - 3km from city centre</td>\n",
       "      <td>7331 Total Reviews</td>\n",
       "    </tr>\n",
       "    <tr>\n",
       "      <th>4</th>\n",
       "      <td>Safestay London Elephant &amp; Castle</td>\n",
       "      <td>7.3</td>\n",
       "      <td>Privates From\\nRs12902</td>\n",
       "      <td>NaN</td>\n",
       "      <td>Hostel - 1.7km from city centre</td>\n",
       "      <td>4793 Total Reviews</td>\n",
       "    </tr>\n",
       "    <tr>\n",
       "      <th>5</th>\n",
       "      <td>Urbany Hostel London</td>\n",
       "      <td>9.2</td>\n",
       "      <td>NaN</td>\n",
       "      <td>Dorms From\\nRs5780</td>\n",
       "      <td>Hostel - 5.4km from city centre</td>\n",
       "      <td>628 Total Reviews</td>\n",
       "    </tr>\n",
       "    <tr>\n",
       "      <th>6</th>\n",
       "      <td>Astor Museum Inn</td>\n",
       "      <td>8.0</td>\n",
       "      <td>Privates From\\nRs9252</td>\n",
       "      <td>NaN</td>\n",
       "      <td>Hostel - 2.2km from city centre</td>\n",
       "      <td>9160 Total Reviews</td>\n",
       "    </tr>\n",
       "    <tr>\n",
       "      <th>7</th>\n",
       "      <td>NX London Hostel</td>\n",
       "      <td>7.8</td>\n",
       "      <td>NaN</td>\n",
       "      <td>Dorms From\\nRs2375</td>\n",
       "      <td>Hostel - 6.1km from city centre</td>\n",
       "      <td>1543 Total Reviews</td>\n",
       "    </tr>\n",
       "    <tr>\n",
       "      <th>8</th>\n",
       "      <td>Safestay London Kensington Holland Park</td>\n",
       "      <td>7.2</td>\n",
       "      <td>No Privates Available</td>\n",
       "      <td>NaN</td>\n",
       "      <td>Hostel - 5.9km from city centre</td>\n",
       "      <td>1415 Total Reviews</td>\n",
       "    </tr>\n",
       "    <tr>\n",
       "      <th>9</th>\n",
       "      <td>No.8 Seven Sisters</td>\n",
       "      <td>8.2</td>\n",
       "      <td>NaN</td>\n",
       "      <td>Dorms From\\nRs2024</td>\n",
       "      <td>Hostel - 9km from city centre</td>\n",
       "      <td>3954 Total Reviews</td>\n",
       "    </tr>\n",
       "    <tr>\n",
       "      <th>10</th>\n",
       "      <td>St Christopher's Camden</td>\n",
       "      <td>6.7</td>\n",
       "      <td>Privates From\\nRs11636</td>\n",
       "      <td>NaN</td>\n",
       "      <td>Hostel - 4.3km from city centre</td>\n",
       "      <td>3967 Total Reviews</td>\n",
       "    </tr>\n",
       "    <tr>\n",
       "      <th>11</th>\n",
       "      <td>No.8 Willesden Hostel London</td>\n",
       "      <td>7.1</td>\n",
       "      <td>NaN</td>\n",
       "      <td>Dorms From\\nRs3365</td>\n",
       "      <td>Hostel - 10km from city centre</td>\n",
       "      <td>4935 Total Reviews</td>\n",
       "    </tr>\n",
       "    <tr>\n",
       "      <th>12</th>\n",
       "      <td>Phoenix Hostel</td>\n",
       "      <td>7.9</td>\n",
       "      <td>Privates From\\nRs13093</td>\n",
       "      <td>NaN</td>\n",
       "      <td>Hostel - 4.2km from city centre</td>\n",
       "      <td>3946 Total Reviews</td>\n",
       "    </tr>\n",
       "    <tr>\n",
       "      <th>13</th>\n",
       "      <td>London Backpackers</td>\n",
       "      <td>7.7</td>\n",
       "      <td>NaN</td>\n",
       "      <td>No Dorms Available</td>\n",
       "      <td>Hostel - 11.9km from city centre</td>\n",
       "      <td>4404 Total Reviews</td>\n",
       "    </tr>\n",
       "    <tr>\n",
       "      <th>14</th>\n",
       "      <td>St Christopher's Hammersmith</td>\n",
       "      <td>8.9</td>\n",
       "      <td>No Privates Available</td>\n",
       "      <td>NaN</td>\n",
       "      <td>Hostel - 7.5km from city centre</td>\n",
       "      <td>4192 Total Reviews</td>\n",
       "    </tr>\n",
       "    <tr>\n",
       "      <th>15</th>\n",
       "      <td>Barmy Badger Backpackers</td>\n",
       "      <td>7.1</td>\n",
       "      <td>NaN</td>\n",
       "      <td>Dorms From\\nRs3381.52 Rs2705</td>\n",
       "      <td>Hostel - 5.5km from city centre</td>\n",
       "      <td>1879 Total Reviews</td>\n",
       "    </tr>\n",
       "    <tr>\n",
       "      <th>16</th>\n",
       "      <td>Queen Elizabeth Chelsea</td>\n",
       "      <td>7.9</td>\n",
       "      <td>No Privates Available</td>\n",
       "      <td>NaN</td>\n",
       "      <td>Hostel - 5.7km from city centre</td>\n",
       "      <td>3394 Total Reviews</td>\n",
       "    </tr>\n",
       "    <tr>\n",
       "      <th>17</th>\n",
       "      <td>St Christopher's Inn - Liverpool Street</td>\n",
       "      <td>7.2</td>\n",
       "      <td>NaN</td>\n",
       "      <td>Dorms From\\nRs2568</td>\n",
       "      <td>Hostel - 3.2km from city centre</td>\n",
       "      <td>468 Total Reviews</td>\n",
       "    </tr>\n",
       "    <tr>\n",
       "      <th>18</th>\n",
       "      <td>St Christopher's Greenwich</td>\n",
       "      <td>8.0</td>\n",
       "      <td>No Privates Available</td>\n",
       "      <td>NaN</td>\n",
       "      <td>Hostel - 7.6km from city centre</td>\n",
       "      <td>3307 Total Reviews</td>\n",
       "    </tr>\n",
       "    <tr>\n",
       "      <th>19</th>\n",
       "      <td>PubLove @ The Steam Engine, Waterloo</td>\n",
       "      <td>7.7</td>\n",
       "      <td>NaN</td>\n",
       "      <td>Dorms From\\nRs1489</td>\n",
       "      <td>Hostel - 0.5km from city centre</td>\n",
       "      <td>361 Total Reviews</td>\n",
       "    </tr>\n",
       "    <tr>\n",
       "      <th>20</th>\n",
       "      <td>Saint James Backpackers</td>\n",
       "      <td>6.6</td>\n",
       "      <td>No Privates Available</td>\n",
       "      <td>NaN</td>\n",
       "      <td>Hostel - 5.5km from city centre</td>\n",
       "      <td>1862 Total Reviews</td>\n",
       "    </tr>\n",
       "    <tr>\n",
       "      <th>21</th>\n",
       "      <td>St Christopher's Shepherds Bush</td>\n",
       "      <td>7.9</td>\n",
       "      <td>NaN</td>\n",
       "      <td>Dorms From\\nRs3379.93 Rs3042</td>\n",
       "      <td>Hostel - 7km from city centre</td>\n",
       "      <td>752 Total Reviews</td>\n",
       "    </tr>\n",
       "    <tr>\n",
       "      <th>22</th>\n",
       "      <td>St Christopher's Oasis-Female Only</td>\n",
       "      <td>8.6</td>\n",
       "      <td>No Privates Available</td>\n",
       "      <td>NaN</td>\n",
       "      <td>Hostel - 1.8km from city centre</td>\n",
       "      <td>725 Total Reviews</td>\n",
       "    </tr>\n",
       "    <tr>\n",
       "      <th>23</th>\n",
       "      <td>Kensal Green Backpackers</td>\n",
       "      <td>7.5</td>\n",
       "      <td>NaN</td>\n",
       "      <td>Dorms From\\nRs1405</td>\n",
       "      <td>Hostel - 8.2km from city centre</td>\n",
       "      <td>3696 Total Reviews</td>\n",
       "    </tr>\n",
       "    <tr>\n",
       "      <th>24</th>\n",
       "      <td>Park Villa</td>\n",
       "      <td>7.7</td>\n",
       "      <td>Privates From\\nRs9849.62 Rs9357</td>\n",
       "      <td>NaN</td>\n",
       "      <td>Hostel - 6.3km from city centre</td>\n",
       "      <td>883 Total Reviews</td>\n",
       "    </tr>\n",
       "    <tr>\n",
       "      <th>25</th>\n",
       "      <td>PubLove @ The White Ferry, Victoria</td>\n",
       "      <td>7.9</td>\n",
       "      <td>NaN</td>\n",
       "      <td>Dorms From\\nRs2480.07 Rs2356</td>\n",
       "      <td>Hostel - 2.4km from city centre</td>\n",
       "      <td>315 Total Reviews</td>\n",
       "    </tr>\n",
       "    <tr>\n",
       "      <th>26</th>\n",
       "      <td>PubLove @ The Crown, Battersea</td>\n",
       "      <td>8.8</td>\n",
       "      <td>Privates From\\nRs7287</td>\n",
       "      <td>NaN</td>\n",
       "      <td>Hostel - 4.7km from city centre</td>\n",
       "      <td>285 Total Reviews</td>\n",
       "    </tr>\n",
       "    <tr>\n",
       "      <th>27</th>\n",
       "      <td>PubLove @ The Green Man, Paddington</td>\n",
       "      <td>7.5</td>\n",
       "      <td>NaN</td>\n",
       "      <td>Dorms From\\nRs2327</td>\n",
       "      <td>Hostel - 4.3km from city centre</td>\n",
       "      <td>437 Total Reviews</td>\n",
       "    </tr>\n",
       "    <tr>\n",
       "      <th>28</th>\n",
       "      <td>Selina Camden</td>\n",
       "      <td>5.5</td>\n",
       "      <td>No Privates Available</td>\n",
       "      <td>NaN</td>\n",
       "      <td>Hostel - 5.5km from city centre</td>\n",
       "      <td>43 Total Reviews</td>\n",
       "    </tr>\n",
       "    <tr>\n",
       "      <th>29</th>\n",
       "      <td>PubLove @ The Rose &amp; Crown</td>\n",
       "      <td>5.4</td>\n",
       "      <td>NaN</td>\n",
       "      <td>Dorms From\\nRs2262.37 Rs2036</td>\n",
       "      <td>Hostel - 1.6km from city centre</td>\n",
       "      <td>171 Total Reviews</td>\n",
       "    </tr>\n",
       "  </tbody>\n",
       "</table>\n",
       "</div>"
      ],
      "text/plain": [
       "                                       Name RATING  \\\n",
       "0               Wombat's City Hostel London    8.9   \n",
       "1                  St Christopher's Village    8.0   \n",
       "2                   Hostel One Notting Hill    9.4   \n",
       "3                          Generator London    7.6   \n",
       "4         Safestay London Elephant & Castle    7.3   \n",
       "5                      Urbany Hostel London    9.2   \n",
       "6                          Astor Museum Inn    8.0   \n",
       "7                          NX London Hostel    7.8   \n",
       "8   Safestay London Kensington Holland Park    7.2   \n",
       "9                        No.8 Seven Sisters    8.2   \n",
       "10                  St Christopher's Camden    6.7   \n",
       "11             No.8 Willesden Hostel London    7.1   \n",
       "12                           Phoenix Hostel    7.9   \n",
       "13                       London Backpackers    7.7   \n",
       "14             St Christopher's Hammersmith    8.9   \n",
       "15                 Barmy Badger Backpackers    7.1   \n",
       "16                  Queen Elizabeth Chelsea    7.9   \n",
       "17  St Christopher's Inn - Liverpool Street    7.2   \n",
       "18               St Christopher's Greenwich    8.0   \n",
       "19     PubLove @ The Steam Engine, Waterloo    7.7   \n",
       "20                  Saint James Backpackers    6.6   \n",
       "21          St Christopher's Shepherds Bush    7.9   \n",
       "22       St Christopher's Oasis-Female Only    8.6   \n",
       "23                 Kensal Green Backpackers    7.5   \n",
       "24                               Park Villa    7.7   \n",
       "25      PubLove @ The White Ferry, Victoria    7.9   \n",
       "26           PubLove @ The Crown, Battersea    8.8   \n",
       "27      PubLove @ The Green Man, Paddington    7.5   \n",
       "28                            Selina Camden    5.5   \n",
       "29               PubLove @ The Rose & Crown    5.4   \n",
       "\n",
       "                                Price                        Price1  \\\n",
       "0   Privates From\\nRs15025.91 Rs12021                           NaN   \n",
       "1                                 NaN  Dorms From\\nRs5285.46 Rs4228   \n",
       "2               No Privates Available                           NaN   \n",
       "3                                 NaN  Dorms From\\nRs2243.34 Rs2019   \n",
       "4              Privates From\\nRs12902                           NaN   \n",
       "5                                 NaN            Dorms From\\nRs5780   \n",
       "6               Privates From\\nRs9252                           NaN   \n",
       "7                                 NaN            Dorms From\\nRs2375   \n",
       "8               No Privates Available                           NaN   \n",
       "9                                 NaN            Dorms From\\nRs2024   \n",
       "10             Privates From\\nRs11636                           NaN   \n",
       "11                                NaN            Dorms From\\nRs3365   \n",
       "12             Privates From\\nRs13093                           NaN   \n",
       "13                                NaN            No Dorms Available   \n",
       "14              No Privates Available                           NaN   \n",
       "15                                NaN  Dorms From\\nRs3381.52 Rs2705   \n",
       "16              No Privates Available                           NaN   \n",
       "17                                NaN            Dorms From\\nRs2568   \n",
       "18              No Privates Available                           NaN   \n",
       "19                                NaN            Dorms From\\nRs1489   \n",
       "20              No Privates Available                           NaN   \n",
       "21                                NaN  Dorms From\\nRs3379.93 Rs3042   \n",
       "22              No Privates Available                           NaN   \n",
       "23                                NaN            Dorms From\\nRs1405   \n",
       "24    Privates From\\nRs9849.62 Rs9357                           NaN   \n",
       "25                                NaN  Dorms From\\nRs2480.07 Rs2356   \n",
       "26              Privates From\\nRs7287                           NaN   \n",
       "27                                NaN            Dorms From\\nRs2327   \n",
       "28              No Privates Available                           NaN   \n",
       "29                                NaN  Dorms From\\nRs2262.37 Rs2036   \n",
       "\n",
       "                            Distance               Review  \n",
       "0    Hostel - 3.6km from city centre  14519 Total Reviews  \n",
       "1    Hostel - 1.8km from city centre  11866 Total Reviews  \n",
       "2    Hostel - 5.5km from city centre   1713 Total Reviews  \n",
       "3      Hostel - 3km from city centre   7331 Total Reviews  \n",
       "4    Hostel - 1.7km from city centre   4793 Total Reviews  \n",
       "5    Hostel - 5.4km from city centre    628 Total Reviews  \n",
       "6    Hostel - 2.2km from city centre   9160 Total Reviews  \n",
       "7    Hostel - 6.1km from city centre   1543 Total Reviews  \n",
       "8    Hostel - 5.9km from city centre   1415 Total Reviews  \n",
       "9      Hostel - 9km from city centre   3954 Total Reviews  \n",
       "10   Hostel - 4.3km from city centre   3967 Total Reviews  \n",
       "11    Hostel - 10km from city centre   4935 Total Reviews  \n",
       "12   Hostel - 4.2km from city centre   3946 Total Reviews  \n",
       "13  Hostel - 11.9km from city centre   4404 Total Reviews  \n",
       "14   Hostel - 7.5km from city centre   4192 Total Reviews  \n",
       "15   Hostel - 5.5km from city centre   1879 Total Reviews  \n",
       "16   Hostel - 5.7km from city centre   3394 Total Reviews  \n",
       "17   Hostel - 3.2km from city centre    468 Total Reviews  \n",
       "18   Hostel - 7.6km from city centre   3307 Total Reviews  \n",
       "19   Hostel - 0.5km from city centre    361 Total Reviews  \n",
       "20   Hostel - 5.5km from city centre   1862 Total Reviews  \n",
       "21     Hostel - 7km from city centre    752 Total Reviews  \n",
       "22   Hostel - 1.8km from city centre    725 Total Reviews  \n",
       "23   Hostel - 8.2km from city centre   3696 Total Reviews  \n",
       "24   Hostel - 6.3km from city centre    883 Total Reviews  \n",
       "25   Hostel - 2.4km from city centre    315 Total Reviews  \n",
       "26   Hostel - 4.7km from city centre    285 Total Reviews  \n",
       "27   Hostel - 4.3km from city centre    437 Total Reviews  \n",
       "28   Hostel - 5.5km from city centre     43 Total Reviews  \n",
       "29   Hostel - 1.6km from city centre    171 Total Reviews  "
      ]
     },
     "execution_count": 92,
     "metadata": {},
     "output_type": "execute_result"
    }
   ],
   "source": [
    "Final"
   ]
  },
  {
   "cell_type": "code",
   "execution_count": null,
   "id": "f550058d",
   "metadata": {},
   "outputs": [],
   "source": [
    "\n",
    "\n",
    "    \n"
   ]
  },
  {
   "cell_type": "code",
   "execution_count": null,
   "id": "38a1a17b",
   "metadata": {},
   "outputs": [],
   "source": []
  },
  {
   "cell_type": "code",
   "execution_count": null,
   "id": "e1182414",
   "metadata": {},
   "outputs": [],
   "source": []
  },
  {
   "cell_type": "code",
   "execution_count": null,
   "id": "0772797e",
   "metadata": {},
   "outputs": [],
   "source": []
  },
  {
   "cell_type": "code",
   "execution_count": null,
   "id": "fec78111",
   "metadata": {},
   "outputs": [],
   "source": []
  },
  {
   "cell_type": "code",
   "execution_count": null,
   "id": "3a89c029",
   "metadata": {},
   "outputs": [],
   "source": []
  }
 ],
 "metadata": {
  "kernelspec": {
   "display_name": "Python 3 (ipykernel)",
   "language": "python",
   "name": "python3"
  },
  "language_info": {
   "codemirror_mode": {
    "name": "ipython",
    "version": 3
   },
   "file_extension": ".py",
   "mimetype": "text/x-python",
   "name": "python",
   "nbconvert_exporter": "python",
   "pygments_lexer": "ipython3",
   "version": "3.9.13"
  }
 },
 "nbformat": 4,
 "nbformat_minor": 5
}
